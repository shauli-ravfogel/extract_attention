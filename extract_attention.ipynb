{
 "cells": [
  {
   "cell_type": "code",
   "execution_count": 1,
   "metadata": {},
   "outputs": [],
   "source": [
    "%load_ext autoreload\n",
    "%autoreload 2\n",
    "from transformers import BertTokenizer, BertModel, BertForMaskedLM, BertConfig\n",
    "import torch"
   ]
  },
  {
   "cell_type": "code",
   "execution_count": 27,
   "metadata": {},
   "outputs": [
    {
     "name": "stderr",
     "output_type": "stream",
     "text": [
      "Some weights of the model checkpoint at bert-base-uncased were not used when initializing BertForMaskedLM: ['cls.seq_relationship.weight', 'cls.seq_relationship.bias']\n",
      "- This IS expected if you are initializing BertForMaskedLM from the checkpoint of a model trained on another task or with another architecture (e.g. initializing a BertForSequenceClassification model from a BertForPretraining model).\n",
      "- This IS NOT expected if you are initializing BertForMaskedLM from the checkpoint of a model that you expect to be exactly identical (initializing a BertForSequenceClassification model from a BertForSequenceClassification model).\n",
      "Some weights of BertForMaskedLM were not initialized from the model checkpoint at bert-base-uncased and are newly initialized: ['cls.predictions.decoder.bias']\n",
      "You should probably TRAIN this model on a down-stream task to be able to use it for predictions and inference.\n"
     ]
    }
   ],
   "source": [
    "config = BertConfig.from_pretrained(\"bert-base-uncased\", output_hidden_states = True, output_attentions = True, \n",
    "                                    return_dict = True) # Note output_attentions\n",
    "tokenizer = BertTokenizer.from_pretrained('bert-base-uncased', config = config)\n",
    "model = BertForMaskedLM.from_pretrained('bert-base-uncased', config = config)\n",
    "model = model.eval()"
   ]
  },
  {
   "cell_type": "code",
   "execution_count": 28,
   "metadata": {},
   "outputs": [
    {
     "data": {
      "text/plain": [
       "True"
      ]
     },
     "execution_count": 28,
     "metadata": {},
     "output_type": "execute_result"
    }
   ],
   "source": [
    "config.output_attentions"
   ]
  },
  {
   "cell_type": "code",
   "execution_count": 29,
   "metadata": {},
   "outputs": [],
   "source": [
    "sentence = \"attention is awesome.\""
   ]
  },
  {
   "cell_type": "code",
   "execution_count": 30,
   "metadata": {},
   "outputs": [],
   "source": [
    "indexed_tokens = tokenizer.encode(sentence, add_special_tokens = True)\n",
    "#indexed_tokens = tokenizer.convert_tokens_to_ids(tokenized_text)\n",
    "bert_tokens = tokenizer.convert_ids_to_tokens(indexed_tokens)\n",
    "tokens_tensor = torch.tensor([indexed_tokens])"
   ]
  },
  {
   "cell_type": "code",
   "execution_count": 48,
   "metadata": {},
   "outputs": [
    {
     "name": "stdout",
     "output_type": "stream",
     "text": [
      "odict_keys(['logits', 'hidden_states', 'attentions'])\n"
     ]
    }
   ],
   "source": [
    "with torch.no_grad():\n",
    "    result = model(tokens_tensor)\n",
    "print(result.keys())"
   ]
  },
  {
   "cell_type": "code",
   "execution_count": 49,
   "metadata": {},
   "outputs": [
    {
     "name": "stdout",
     "output_type": "stream",
     "text": [
      "12\n"
     ]
    }
   ],
   "source": [
    "att = result[\"attentions\"]\n",
    "print(len(att)) # 12 - 1 for each layer"
   ]
  },
  {
   "cell_type": "code",
   "execution_count": 50,
   "metadata": {},
   "outputs": [
    {
     "name": "stdout",
     "output_type": "stream",
     "text": [
      "torch.Size([1, 12, 6, 6])\n"
     ]
    }
   ],
   "source": [
    "# let's look on the attention at layer 5.\n",
    "# each attention layer is a tensor of shape (batch_size, num_heads, sequence_length, sequence_length)\n",
    "\n",
    "att5 = att[5]\n",
    "print(att5.shape)"
   ]
  },
  {
   "cell_type": "code",
   "execution_count": 51,
   "metadata": {},
   "outputs": [
    {
     "name": "stdout",
     "output_type": "stream",
     "text": [
      "tensor([0.0118, 0.0247, 0.0127, 0.0085, 0.0053, 0.9370])\n",
      "tensor(1.)\n"
     ]
    }
   ],
   "source": [
    "# let's inspect see how the first word (\"attention\") attends to all other words by the 3rd attention head.\n",
    "head_ind = 3\n",
    "sent_ind = 0 # a single sentence in the batch\n",
    "word_index = 1 # \"attention\" appears after the CLS token\n",
    "\n",
    "att_distribution_for_the_word_attention_in_layer_5_head_3 = att5[sent_ind][head_ind][word_index]\n",
    "print(att_distribution_for_the_word_attention_in_layer_5_head_3)\n",
    "print(torch.sum(att_distribution_for_the_word_attention_in_layer_5_head_3))"
   ]
  }
 ],
 "metadata": {
  "kernelspec": {
   "display_name": "Python 3",
   "language": "python",
   "name": "python3"
  },
  "language_info": {
   "codemirror_mode": {
    "name": "ipython",
    "version": 3
   },
   "file_extension": ".py",
   "mimetype": "text/x-python",
   "name": "python",
   "nbconvert_exporter": "python",
   "pygments_lexer": "ipython3",
   "version": "3.7.9"
  }
 },
 "nbformat": 4,
 "nbformat_minor": 4
}
